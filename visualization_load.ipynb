{
 "cells": [
  {
   "cell_type": "code",
   "execution_count": null,
   "metadata": {},
   "outputs": [],
   "source": [
    "# Extract the routes from the solution\n",
    "routes = {v: [] for v in Vehicles}\n",
    "if m.status == GRB.OPTIMAL:\n",
    "    for v in Vehicles:\n",
    "        for i in Nodes:\n",
    "            for j in Nodes:\n",
    "                if edge[i, j, v].X > 0.5:\n",
    "                    routes[v].append((i, j))\n",
    "\n",
    "    # Plot the routes\n",
    "    plt.figure(figsize=(5, 4))\n",
    "    plt.scatter(xcoord, ycoord, c='red')\n",
    "    plt.scatter(xcoord[0], ycoord[0], c='blue', marker='s')  # depot\n",
    "\n",
    "    for i, (x, y) in enumerate(zip(xcoord, ycoord)):\n",
    "        plt.annotate(str(i), (x, y), textcoords=\"offset points\", xytext=(0, 5), ha='center')\n",
    "\n",
    "    # create list of dynamic length, depending on len(Vehicles) with different colors\n",
    "    num_vehicles = len(Vehicles)\n",
    "\n",
    "    # Generate distinct colors using a colormap\n",
    "    cmap = plt.cm.get_cmap('tab20', num_vehicles)  # Use 'tab20' for up to 20 distinct colors\n",
    "    colors = [cmap(i) for i in range(num_vehicles)]  # Extract `num_vehicles` colors\n",
    "\n",
    "    for v in Vehicles:\n",
    "        load = 0\n",
    "        sorted_routes = sorted(routes[v], key=lambda x: service_start[x[0], v].X)\n",
    "        for (i, j) in sorted_routes:\n",
    "            load += q[i]\n",
    "            plt.arrow(xcoord[i], ycoord[i], xcoord[j] - xcoord[i], ycoord[j] - ycoord[i], \n",
    "                      color=colors[v], head_width=1.5, length_includes_head=True, label=f'Vehicle {v}' if i == 0 else \"\")\n",
    "            mid_x = (xcoord[i] + xcoord[j]) / 2 \n",
    "            mid_y = (ycoord[i] + ycoord[j]) / 2 \n",
    "            plt.text(mid_x, mid_y, f'{load}', color='black', fontsize=10, fontweight='bold', ha='center')\n",
    "            print(f\"Vehicle {v} is currently carrying load {load} after visiting node {i}.\")\n",
    "\n",
    "    plt.xlabel('X Coordinate')\n",
    "    plt.ylabel('Y Coordinate')\n",
    "    plt.title('Vehicle Routes with Loads')\n",
    "    plt.legend()\n",
    "    plt.show()\n",
    "else:\n",
    "    print(\"No optimal solution found.\")"
   ]
  }
 ],
 "metadata": {
  "language_info": {
   "name": "python"
  }
 },
 "nbformat": 4,
 "nbformat_minor": 2
}
